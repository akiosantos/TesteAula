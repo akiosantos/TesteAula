numero_secreto = 42

while True:
    tentativa = int(input("Tente adivinhar o número: "))
    
    if tentativa == numero_secreto:
        print("Parabéns, você acertou!")
        break
    elif tentativa < numero_secreto:
        print("Tente um número maior.")
    else:
        print("Tente um número menor.")
